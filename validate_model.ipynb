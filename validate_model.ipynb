{
 "cells": [
  {
   "cell_type": "code",
   "execution_count": 81,
   "metadata": {
    "collapsed": true,
    "ExecuteTime": {
     "end_time": "2023-05-11T16:11:21.687963412Z",
     "start_time": "2023-05-11T16:11:21.667908523Z"
    }
   },
   "outputs": [
    {
     "data": {
      "text/plain": "<torch._C.Generator at 0x7f29b41c4130>"
     },
     "execution_count": 81,
     "metadata": {},
     "output_type": "execute_result"
    }
   ],
   "source": [
    "import os\n",
    "import pickle as pkl\n",
    "from random import seed\n",
    "\n",
    "import numpy as np\n",
    "import pandas as pd\n",
    "import torch\n",
    "seed(1234)\n",
    "np.random.seed(1234)\n",
    "torch.random.manual_seed(1234)"
   ]
  },
  {
   "cell_type": "code",
   "execution_count": 95,
   "outputs": [],
   "source": [
    "model = pkl.load(open('models/scASTRAL_final_pipeline.pkl','rb'))\n",
    "response = pd.read_csv('data/afatinib.csv')\n",
    "to_test = ['SUM149PT','HCC38','HCC70','CAL851',\n",
    " 'BT20','HCC1937','HDQP1','SUM229PE',\n",
    " 'BT549','CAL51','HCC1143','SUM159PT','SUM185PE',\n",
    " 'HCC1187','MDAMB436','SUM1315MO2']"
   ],
   "metadata": {
    "collapsed": false,
    "ExecuteTime": {
     "end_time": "2023-05-11T16:29:00.677990568Z",
     "start_time": "2023-05-11T16:29:00.646907044Z"
    }
   }
  },
  {
   "cell_type": "code",
   "execution_count": 96,
   "outputs": [],
   "source": [
    "response['cl'] = [p.replace('-','') for p in response['Cell line']]\n",
    "response['logIC50'] = np.log2(response['IC50'])\n",
    "response = response.loc[ [p in to_test for p in response['cl']] ,['cl','logIC50'] ]\n",
    "response['pct_pred']=np.nan"
   ],
   "metadata": {
    "collapsed": false,
    "ExecuteTime": {
     "end_time": "2023-05-11T16:29:02.966529793Z",
     "start_time": "2023-05-11T16:29:02.954003098Z"
    }
   }
  },
  {
   "cell_type": "code",
   "execution_count": 103,
   "outputs": [],
   "source": [
    "for file in os.listdir('data/cell_line'):\n",
    "    cell_line,extension = file.split('.')\n",
    "    if extension == 'csv' and cell_line in to_test:\n",
    "        df = pd.read_csv(f\"data/cell_line/{file}\",index_col=0)\n",
    "        pred = model.predict_proba(df)\n",
    "        pos = (pred[:,1] >= .95).sum()\n",
    "        neg = (pred[:,1] < .1).sum()\n",
    "        response.loc[response['cl']==cell_line,'pct_pred']=pos/(pos+neg)\n"
   ],
   "metadata": {
    "collapsed": false,
    "ExecuteTime": {
     "end_time": "2023-05-11T16:30:07.526341007Z",
     "start_time": "2023-05-11T16:30:05.663539926Z"
    }
   }
  },
  {
   "cell_type": "code",
   "execution_count": 105,
   "outputs": [
    {
     "data": {
      "text/plain": "           logIC50  pct_pred\nlogIC50   1.000000  0.613285\npct_pred  0.613285  1.000000",
      "text/html": "<div>\n<style scoped>\n    .dataframe tbody tr th:only-of-type {\n        vertical-align: middle;\n    }\n\n    .dataframe tbody tr th {\n        vertical-align: top;\n    }\n\n    .dataframe thead th {\n        text-align: right;\n    }\n</style>\n<table border=\"1\" class=\"dataframe\">\n  <thead>\n    <tr style=\"text-align: right;\">\n      <th></th>\n      <th>logIC50</th>\n      <th>pct_pred</th>\n    </tr>\n  </thead>\n  <tbody>\n    <tr>\n      <th>logIC50</th>\n      <td>1.000000</td>\n      <td>0.613285</td>\n    </tr>\n    <tr>\n      <th>pct_pred</th>\n      <td>0.613285</td>\n      <td>1.000000</td>\n    </tr>\n  </tbody>\n</table>\n</div>"
     },
     "execution_count": 105,
     "metadata": {},
     "output_type": "execute_result"
    }
   ],
   "source": [
    "response[['logIC50','pct_pred']].corr()"
   ],
   "metadata": {
    "collapsed": false,
    "ExecuteTime": {
     "end_time": "2023-05-11T16:30:17.939034114Z",
     "start_time": "2023-05-11T16:30:17.918455610Z"
    }
   }
  },
  {
   "cell_type": "code",
   "execution_count": 106,
   "outputs": [
    {
     "data": {
      "text/plain": "<Axes: xlabel='pct_pred', ylabel='logIC50'>"
     },
     "execution_count": 106,
     "metadata": {},
     "output_type": "execute_result"
    },
    {
     "data": {
      "text/plain": "<Figure size 640x480 with 1 Axes>",
      "image/png": "[encoded data removed]"
     },
     "metadata": {},
     "output_type": "display_data"
    }
   ],
   "source": [
    "response.plot.scatter(y='logIC50',x='pct_pred')"
   ],
   "metadata": {
    "collapsed": false,
    "ExecuteTime": {
     "end_time": "2023-05-11T16:30:20.429973919Z",
     "start_time": "2023-05-11T16:30:20.226314622Z"
    }
   }
  }
 ],
 "metadata": {
  "kernelspec": {
   "display_name": "Python 3",
   "language": "python",
   "name": "python3"
  },
  "language_info": {
   "codemirror_mode": {
    "name": "ipython",
    "version": 2
   },
   "file_extension": ".py",
   "mimetype": "text/x-python",
   "name": "python",
   "nbconvert_exporter": "python",
   "pygments_lexer": "ipython2",
   "version": "2.7.6"
  }
 },
 "nbformat": 4,
 "nbformat_minor": 0
}
