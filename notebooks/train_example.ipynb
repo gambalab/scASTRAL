{
 "cells": [
  {
   "cell_type": "code",
   "execution_count": null,
   "outputs": [],
   "source": [
    "from random import seed\n",
    "\n",
    "import matplotlib.pyplot as plt\n",
    "import numpy as np\n",
    "import pandas as pd\n",
    "import seaborn as sns\n",
    "import torch\n",
    "from matplotlib.patches import Patch\n",
    "from sklearn.metrics.pairwise import cosine_distances\n",
    "from sklearn.metrics.pairwise import cosine_similarity\n",
    "from sklearn.model_selection import train_test_split\n",
    "from sklearn.svm import SVC\n",
    "\n",
    "import scastral.network\n",
    "from scastral import *\n",
    "\n",
    "path = 'data/validation_set/preprocessed'\n",
    "train = pd.read_csv('data/train_set/preprocessed_trainset.csv')\n",
    "train.set_index('Unnamed: 0', inplace=True, drop=True)  # set barcodes as index\n",
    "labels = np.array(train['label'])  # get labels\n",
    "\n",
    "del train['label']\n",
    "signature = pd.read_csv('data/signature_374.csv')\n",
    "signature = list(signature['ensembl_gene_id'])\n"
   ],
   "metadata": {
    "collapsed": false
   },
   "id": "7e4d67731572282f"
  },
  {
   "cell_type": "code",
   "execution_count": null,
   "outputs": [],
   "source": [
    "def plot_distance(X, y, distfunc):\n",
    "    mask = np.array(y_train, dtype=bool)\n",
    "\n",
    "    # compute cosine distance after transformation\n",
    "    sxsa = cosine_distances(X[mask, :])  # survived on survived\n",
    "    sxda = cosine_distances(X[mask, :], X[~mask, :])  # survived on dead\n",
    "    dxda = cosine_distances(X[~mask, :])  # dead on dead\n",
    "    \n",
    "    np.fill_diagonal(sxsa, np.nan)  # remove diagonal elements\n",
    "    np.fill_diagonal(sxda, np.nan)  # remove diagonal elements\n",
    "    np.fill_diagonal(dxda, np.nan)  # remove diagonal elements\n",
    "    \n",
    "    inter_a = sxda.flatten()\n",
    "    intra_a = np.concatenate((sxsa.flatten(), dxda.flatten()))\n",
    "    \n",
    "    legend_elements = [Patch(facecolor='peachpuff', edgecolor='orange',\n",
    "                             label='inter'), Patch(facecolor='lightblue', edgecolor='royalblue',\n",
    "                                                   label='intra')]\n",
    "    \n",
    "    # plot distribution after transformation\n",
    "    sns.kdeplot(intra_a, color='royalblue', fill=True, legend='intra')\n",
    "    sns.kdeplot(inter_a, color='orange', fill=True, legend='inter')\n",
    "    plt.xlabel('cosine distance')\n",
    "    plt.legend(handles=legend_elements, loc='upper right')\n",
    "    plt.show()\n"
   ],
   "metadata": {
    "collapsed": false
   },
   "id": "968a02880429a2b7"
  },
  {
   "cell_type": "code",
   "execution_count": null,
   "outputs": [],
   "source": [
    "X = pd.DataFrame(train,\n",
    "                 columns=train.columns,\n",
    "                 index=train.index)\n",
    "\n",
    "train = X.loc[:, signature].to_numpy()  # subset to signature\n",
    "\n",
    "seed(1234)\n",
    "np.random.seed(1234)\n",
    "torch.random.manual_seed(1234)\n",
    "\n",
    "X_train, X_test, y_train, y_test = train_test_split(train, labels, train_size=.7, random_state=123)\n"
   ],
   "metadata": {
    "collapsed": false
   },
   "id": "f774001959e11396"
  },
  {
   "cell_type": "code",
   "execution_count": null,
   "outputs": [],
   "source": [
    "plot_distance(X_train,y_train,cosine_distances)"
   ],
   "metadata": {
    "collapsed": false
   },
   "id": "11724a69c610b7bb"
  },
  {
   "cell_type": "code",
   "execution_count": null,
   "outputs": [],
   "source": [
    "clf = SVC(C=100, kernel=cosine_similarity, probability=True, random_state=123)\n",
    "model = network.SCAstral(max_epochs=250, patience=20, batch_size=32, min_epochs=-1,\n",
    "                         input_size=train.shape[1], hidden_size=64, latent_size=32,\n",
    "                         alfa=0.1, mu=0, theta=1, lr=0.0001, verbose=True, path='models/weights.pt',\n",
    "                         eval_metrics={'roc_auc': scastral.network.roc_auc_scorer,\n",
    "                                       'accuracy': scastral.network.accuracy_scorer},\n",
    "                         early_stop_metric='accuracy',\n",
    "                         predictor=clf)\n",
    "\n",
    "model.fit(X_train, y_train, X_test, y_test)"
   ],
   "metadata": {
    "collapsed": false
   },
   "id": "61e4a975f933e202"
  },
  {
   "cell_type": "code",
   "execution_count": null,
   "outputs": [],
   "source": [
    "transformed = model.transform(X_train)\n",
    "plot_distance(transformed,y_train,cosine_distances)"
   ],
   "metadata": {
    "collapsed": false
   },
   "id": "a90740edb31c298e"
  }
 ],
 "metadata": {
  "kernelspec": {
   "display_name": "Python 3",
   "language": "python",
   "name": "python3"
  },
  "language_info": {
   "codemirror_mode": {
    "name": "ipython",
    "version": 2
   },
   "file_extension": ".py",
   "mimetype": "text/x-python",
   "name": "python",
   "nbconvert_exporter": "python",
   "pygments_lexer": "ipython2",
   "version": "2.7.6"
  }
 },
 "nbformat": 4,
 "nbformat_minor": 5
}
